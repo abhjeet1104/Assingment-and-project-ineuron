{
  "nbformat": 4,
  "nbformat_minor": 0,
  "metadata": {
    "colab": {
      "provenance": [],
      "collapsed_sections": [],
      "toc_visible": true,
      "include_colab_link": true
    },
    "kernelspec": {
      "name": "python3",
      "display_name": "Python 3"
    },
    "language_info": {
      "name": "python"
    }
  },
  "cells": [
    {
      "cell_type": "markdown",
      "metadata": {
        "id": "view-in-github",
        "colab_type": "text"
      },
      "source": [
        "<a href=\"https://colab.research.google.com/github/abhjeet1104/Assingment-and-project-ineuron/blob/main/Copy_of_demo_003.ipynb\" target=\"_parent\"><img src=\"https://colab.research.google.com/assets/colab-badge.svg\" alt=\"Open In Colab\"/></a>"
      ]
    },
    {
      "cell_type": "markdown",
      "source": [
        "Common ques\n",
        "1. can we use lab? YES\n",
        "2. Can we use Jupyter notebook locally? YES\n",
        "3. Can we use neuro lab? YES\n",
        "4. Can we use VSCODE? YES\n",
        "4. Can we use PyCharm? YES\n",
        "5. Can we use Colab? YES\n",
        "6. Can we code simultaneosly code? YES definitely"
      ],
      "metadata": {
        "id": "fIUR5zw4IhYY"
      }
    },
    {
      "cell_type": "markdown",
      "source": [
        "# AGENDA\n",
        "1. Variable Case senstivity [clear]\n",
        "2. Reserved words in Python [clear]\n",
        "3. Multi assignment of variables [clear]\n",
        "4. User input []\n",
        "5. type casting | type conversion\n",
        "6. Memory block\n",
        "7. Operators\n",
        "  - Logical\n",
        "  - Equality\n",
        "  - Comparision\n",
        "  - Arthimatic\n",
        "  - Bitwise [Advance classes]\n",
        "  - Operators for sets and dictionary [Advance classes]\n",
        "\n",
        "8. String methods"
      ],
      "metadata": {
        "id": "DVmVcM1LIXDE"
      }
    },
    {
      "cell_type": "markdown",
      "source": [
        "## Variable Case senstivity\n",
        "\n",
        "variable names defined as\n",
        "\n",
        "Ashish ashish"
      ],
      "metadata": {
        "id": "oU8UKhoMJjWG"
      }
    },
    {
      "cell_type": "code",
      "execution_count": null,
      "metadata": {
        "id": "V-s72nEMIEy0"
      },
      "outputs": [],
      "source": [
        "TEN = 10\n",
        "ten = 20\n",
        "# TEN and ten both are different in terms of lowercase and uppercase letter"
      ]
    },
    {
      "cell_type": "code",
      "source": [
        "print(Ten)"
      ],
      "metadata": {
        "colab": {
          "base_uri": "https://localhost:8080/",
          "height": 169
        },
        "id": "55zCoGQ8J_61",
        "outputId": "c3de6492-7426-4ead-90d6-fd3a073575db"
      },
      "execution_count": null,
      "outputs": [
        {
          "output_type": "error",
          "ename": "NameError",
          "evalue": "ignored",
          "traceback": [
            "\u001b[0;31m---------------------------------------------------------------------------\u001b[0m",
            "\u001b[0;31mNameError\u001b[0m                                 Traceback (most recent call last)",
            "\u001b[0;32m<ipython-input-2-102da4055415>\u001b[0m in \u001b[0;36m<module>\u001b[0;34m\u001b[0m\n\u001b[0;32m----> 1\u001b[0;31m \u001b[0mprint\u001b[0m\u001b[0;34m(\u001b[0m\u001b[0mTen\u001b[0m\u001b[0;34m)\u001b[0m\u001b[0;34m\u001b[0m\u001b[0;34m\u001b[0m\u001b[0m\n\u001b[0m",
            "\u001b[0;31mNameError\u001b[0m: name 'Ten' is not defined"
          ]
        }
      ]
    },
    {
      "cell_type": "code",
      "source": [
        "TEN"
      ],
      "metadata": {
        "colab": {
          "base_uri": "https://localhost:8080/"
        },
        "id": "BrRNG6X9KFr1",
        "outputId": "4d2eea08-87be-4d9f-ba5c-78e07239f0e2"
      },
      "execution_count": null,
      "outputs": [
        {
          "output_type": "execute_result",
          "data": {
            "text/plain": [
              "10"
            ]
          },
          "metadata": {},
          "execution_count": 3
        }
      ]
    },
    {
      "cell_type": "markdown",
      "source": [
        "## Reserved words in Python\n",
        "\n",
        "https://docs.python.org/2.5/ref/keywords.html"
      ],
      "metadata": {
        "id": "OHkkQ9qEKSTM"
      }
    },
    {
      "cell_type": "markdown",
      "source": [
        "1. We should not use reserved words as variable names\n",
        "2. Also python doesn't restrict the user to use reserved keywords as variable names"
      ],
      "metadata": {
        "id": "W-LmC-qkKyfU"
      }
    },
    {
      "cell_type": "code",
      "source": [
        "print(\"Hi there\")"
      ],
      "metadata": {
        "colab": {
          "base_uri": "https://localhost:8080/"
        },
        "id": "mE4sxcykKJJ0",
        "outputId": "f28b0f58-022f-4922-c60f-c7317cfce30e"
      },
      "execution_count": null,
      "outputs": [
        {
          "output_type": "stream",
          "name": "stdout",
          "text": [
            "Hi there\n"
          ]
        }
      ]
    },
    {
      "cell_type": "code",
      "source": [
        "print = \"Hi there\" # as a variable\n",
        "type(print)"
      ],
      "metadata": {
        "colab": {
          "base_uri": "https://localhost:8080/"
        },
        "id": "kaDwRuH1KXal",
        "outputId": "738055a3-09f9-4d5e-e0f5-ebbe79fc6750"
      },
      "execution_count": null,
      "outputs": [
        {
          "output_type": "execute_result",
          "data": {
            "text/plain": [
              "str"
            ]
          },
          "metadata": {},
          "execution_count": 5
        }
      ]
    },
    {
      "cell_type": "code",
      "source": [
        "print(\"Hi there\")"
      ],
      "metadata": {
        "colab": {
          "base_uri": "https://localhost:8080/",
          "height": 169
        },
        "id": "6SUrJmKMLZMz",
        "outputId": "56a8ca0a-77d3-429e-b44f-0a0e0f1a3b65"
      },
      "execution_count": null,
      "outputs": [
        {
          "output_type": "error",
          "ename": "TypeError",
          "evalue": "ignored",
          "traceback": [
            "\u001b[0;31m---------------------------------------------------------------------------\u001b[0m",
            "\u001b[0;31mTypeError\u001b[0m                                 Traceback (most recent call last)",
            "\u001b[0;32m<ipython-input-6-67ee3d3b1c34>\u001b[0m in \u001b[0;36m<module>\u001b[0;34m\u001b[0m\n\u001b[0;32m----> 1\u001b[0;31m \u001b[0mprint\u001b[0m\u001b[0;34m(\u001b[0m\u001b[0;34m\"Hi there\"\u001b[0m\u001b[0;34m)\u001b[0m\u001b[0;34m\u001b[0m\u001b[0;34m\u001b[0m\u001b[0m\n\u001b[0m",
            "\u001b[0;31mTypeError\u001b[0m: 'str' object is not callable"
          ]
        }
      ]
    },
    {
      "cell_type": "code",
      "source": [
        "print = 12 # as a variable\n",
        "type(print)"
      ],
      "metadata": {
        "colab": {
          "base_uri": "https://localhost:8080/"
        },
        "id": "FQLa3XMhLcr8",
        "outputId": "cc6666f8-8ecb-46fd-cd72-30c61f52e4ba"
      },
      "execution_count": null,
      "outputs": [
        {
          "output_type": "execute_result",
          "data": {
            "text/plain": [
              "int"
            ]
          },
          "metadata": {},
          "execution_count": 7
        }
      ]
    },
    {
      "cell_type": "code",
      "source": [
        "print(\"Hi there\")"
      ],
      "metadata": {
        "colab": {
          "base_uri": "https://localhost:8080/",
          "height": 169
        },
        "id": "Fj01DKUCLf3s",
        "outputId": "8a95b725-5e8c-4a6b-9403-c6172d6a0ae4"
      },
      "execution_count": null,
      "outputs": [
        {
          "output_type": "error",
          "ename": "TypeError",
          "evalue": "ignored",
          "traceback": [
            "\u001b[0;31m---------------------------------------------------------------------------\u001b[0m",
            "\u001b[0;31mTypeError\u001b[0m                                 Traceback (most recent call last)",
            "\u001b[0;32m<ipython-input-8-67ee3d3b1c34>\u001b[0m in \u001b[0;36m<module>\u001b[0;34m\u001b[0m\n\u001b[0;32m----> 1\u001b[0;31m \u001b[0mprint\u001b[0m\u001b[0;34m(\u001b[0m\u001b[0;34m\"Hi there\"\u001b[0m\u001b[0;34m)\u001b[0m\u001b[0;34m\u001b[0m\u001b[0;34m\u001b[0m\u001b[0m\n\u001b[0m",
            "\u001b[0;31mTypeError\u001b[0m: 'int' object is not callable"
          ]
        }
      ]
    },
    {
      "cell_type": "code",
      "source": [
        "del print # delete the variable print"
      ],
      "metadata": {
        "id": "dtl8lOLPLK0D"
      },
      "execution_count": null,
      "outputs": []
    },
    {
      "cell_type": "code",
      "source": [
        "print(\"Hi there\")"
      ],
      "metadata": {
        "colab": {
          "base_uri": "https://localhost:8080/"
        },
        "id": "F8WshhVnKbD0",
        "outputId": "9b06ee1d-3201-43b6-f9b9-e8f5155f0eca"
      },
      "execution_count": null,
      "outputs": [
        {
          "output_type": "stream",
          "name": "stdout",
          "text": [
            "Hi there\n"
          ]
        }
      ]
    },
    {
      "cell_type": "code",
      "source": [
        "Print = \"Hi there\" # as a variable\n",
        "type(Print)"
      ],
      "metadata": {
        "colab": {
          "base_uri": "https://localhost:8080/"
        },
        "id": "K3EPZuZ2KcpU",
        "outputId": "559bdc12-7975-42dc-fd6e-b2c474c92d79"
      },
      "execution_count": null,
      "outputs": [
        {
          "output_type": "execute_result",
          "data": {
            "text/plain": [
              "str"
            ]
          },
          "metadata": {},
          "execution_count": 11
        }
      ]
    },
    {
      "cell_type": "code",
      "source": [
        "print(\"Hi there\")"
      ],
      "metadata": {
        "colab": {
          "base_uri": "https://localhost:8080/"
        },
        "id": "xMLBpkl-LU6b",
        "outputId": "c6bef578-1e28-43c3-e6fb-15514cef79d6"
      },
      "execution_count": null,
      "outputs": [
        {
          "output_type": "stream",
          "name": "stdout",
          "text": [
            "Hi there\n"
          ]
        }
      ]
    },
    {
      "cell_type": "code",
      "source": [
        "print = 10 "
      ],
      "metadata": {
        "id": "TmGpebqqVAp1"
      },
      "execution_count": null,
      "outputs": []
    },
    {
      "cell_type": "code",
      "source": [
        "type(print)"
      ],
      "metadata": {
        "colab": {
          "base_uri": "https://localhost:8080/"
        },
        "id": "2rHp0U9WVWOD",
        "outputId": "340212a1-a7f9-413d-a4da-170ef4733939"
      },
      "execution_count": null,
      "outputs": [
        {
          "output_type": "execute_result",
          "data": {
            "text/plain": [
              "int"
            ]
          },
          "metadata": {},
          "execution_count": 59
        }
      ]
    },
    {
      "cell_type": "code",
      "source": [
        "del print"
      ],
      "metadata": {
        "id": "TDOL4SggVo51"
      },
      "execution_count": null,
      "outputs": []
    },
    {
      "cell_type": "code",
      "source": [
        "print(\"Sunny\")"
      ],
      "metadata": {
        "colab": {
          "base_uri": "https://localhost:8080/"
        },
        "id": "AvQUbpdqVZUk",
        "outputId": "581ad2ff-a2c7-484a-f010-f5ad63815850"
      },
      "execution_count": null,
      "outputs": [
        {
          "output_type": "stream",
          "name": "stdout",
          "text": [
            "Sunny\n"
          ]
        }
      ]
    },
    {
      "cell_type": "markdown",
      "source": [
        "## Multi assignment of variables"
      ],
      "metadata": {
        "id": "yw9KNg31MJ9C"
      }
    },
    {
      "cell_type": "code",
      "source": [
        "a, b, c, yes = 10, 20.2, \"Sunny\", True"
      ],
      "metadata": {
        "id": "PdZLlxA4LV5C"
      },
      "execution_count": null,
      "outputs": []
    },
    {
      "cell_type": "code",
      "source": [
        "type(a)"
      ],
      "metadata": {
        "colab": {
          "base_uri": "https://localhost:8080/"
        },
        "id": "gQUhFpf9MhqC",
        "outputId": "021c709a-a5dd-4346-e7a2-d629fdff361f"
      },
      "execution_count": null,
      "outputs": [
        {
          "output_type": "execute_result",
          "data": {
            "text/plain": [
              "int"
            ]
          },
          "metadata": {},
          "execution_count": 14
        }
      ]
    },
    {
      "cell_type": "code",
      "source": [
        "type(b)"
      ],
      "metadata": {
        "colab": {
          "base_uri": "https://localhost:8080/"
        },
        "id": "TDZfkMKKMmS8",
        "outputId": "412381b3-91ef-4469-d3b1-94ed303a3130"
      },
      "execution_count": null,
      "outputs": [
        {
          "output_type": "execute_result",
          "data": {
            "text/plain": [
              "float"
            ]
          },
          "metadata": {},
          "execution_count": 15
        }
      ]
    },
    {
      "cell_type": "code",
      "source": [
        "type(c)"
      ],
      "metadata": {
        "colab": {
          "base_uri": "https://localhost:8080/"
        },
        "id": "nu2bLsRdMqyq",
        "outputId": "192f95ae-66c6-4169-8984-8175a85e3506"
      },
      "execution_count": null,
      "outputs": [
        {
          "output_type": "execute_result",
          "data": {
            "text/plain": [
              "str"
            ]
          },
          "metadata": {},
          "execution_count": 16
        }
      ]
    },
    {
      "cell_type": "code",
      "source": [
        "type(yes)"
      ],
      "metadata": {
        "colab": {
          "base_uri": "https://localhost:8080/"
        },
        "id": "Ith7tnrQMsiy",
        "outputId": "139179cf-78d7-4c48-abb2-bf8cc78dc8d3"
      },
      "execution_count": null,
      "outputs": [
        {
          "output_type": "execute_result",
          "data": {
            "text/plain": [
              "bool"
            ]
          },
          "metadata": {},
          "execution_count": 17
        }
      ]
    },
    {
      "cell_type": "code",
      "source": [
        "type(a)"
      ],
      "metadata": {
        "colab": {
          "base_uri": "https://localhost:8080/"
        },
        "id": "u-3oJVJsNB7U",
        "outputId": "8465a3bc-00b2-4c2a-f511-09cc2ded6d85"
      },
      "execution_count": null,
      "outputs": [
        {
          "output_type": "execute_result",
          "data": {
            "text/plain": [
              "int"
            ]
          },
          "metadata": {},
          "execution_count": 18
        }
      ]
    },
    {
      "cell_type": "code",
      "source": [
        "print(type(a))\n",
        "print(type(b))\n",
        "print(type(c))\n",
        "print(type(yes))"
      ],
      "metadata": {
        "colab": {
          "base_uri": "https://localhost:8080/"
        },
        "id": "swVHYegYM8HC",
        "outputId": "605632b7-7960-481e-c3d4-db2acc4bde3d"
      },
      "execution_count": null,
      "outputs": [
        {
          "output_type": "stream",
          "name": "stdout",
          "text": [
            "<class 'int'>\n",
            "<class 'float'>\n",
            "<class 'str'>\n",
            "<class 'bool'>\n"
          ]
        }
      ]
    },
    {
      "cell_type": "code",
      "source": [
        "# a,b,c = 10"
      ],
      "metadata": {
        "id": "HmL2D6nqShhW"
      },
      "execution_count": null,
      "outputs": []
    },
    {
      "cell_type": "code",
      "source": [
        "a,b,c = 10,10,10"
      ],
      "metadata": {
        "id": "PlD7XEFANQCa"
      },
      "execution_count": null,
      "outputs": []
    },
    {
      "cell_type": "code",
      "source": [
        "a, A, c, C = 10, 20.2, \"Sunny\", True"
      ],
      "metadata": {
        "id": "D3-CBUsTOBcJ"
      },
      "execution_count": null,
      "outputs": []
    },
    {
      "cell_type": "code",
      "source": [
        "print(a, A, c, C)"
      ],
      "metadata": {
        "colab": {
          "base_uri": "https://localhost:8080/"
        },
        "id": "ASXLkbvSOKpZ",
        "outputId": "24097307-493e-471c-ef68-396a00164e4e"
      },
      "execution_count": null,
      "outputs": [
        {
          "output_type": "stream",
          "name": "stdout",
          "text": [
            "10 20.2 Sunny True\n"
          ]
        }
      ]
    },
    {
      "cell_type": "code",
      "source": [
        "a=b=c=10"
      ],
      "metadata": {
        "id": "0cpw9w9WOMzx"
      },
      "execution_count": null,
      "outputs": []
    },
    {
      "cell_type": "code",
      "source": [
        "a,b,c"
      ],
      "metadata": {
        "colab": {
          "base_uri": "https://localhost:8080/"
        },
        "id": "U6GXf22IOUu6",
        "outputId": "42afee9d-a3d5-4106-f390-4fb9a0e327ff"
      },
      "execution_count": null,
      "outputs": [
        {
          "output_type": "execute_result",
          "data": {
            "text/plain": [
              "(10, 10, 10)"
            ]
          },
          "metadata": {},
          "execution_count": 24
        }
      ]
    },
    {
      "cell_type": "code",
      "source": [
        "firstName, middleName, sirName = \"Sunny\", \"Bhaveen\", \"Chandra\""
      ],
      "metadata": {
        "id": "YpszyuKHV2qC"
      },
      "execution_count": null,
      "outputs": []
    },
    {
      "cell_type": "code",
      "source": [
        "print(f\"{firstName}.{sirName}@gmail.com\")"
      ],
      "metadata": {
        "colab": {
          "base_uri": "https://localhost:8080/"
        },
        "id": "yPHAO7AWWIJU",
        "outputId": "0fd6956f-b419-4438-eb4c-68df6a8cde59"
      },
      "execution_count": null,
      "outputs": [
        {
          "output_type": "stream",
          "name": "stdout",
          "text": [
            "Sunny.Chandra@gmail.com\n"
          ]
        }
      ]
    },
    {
      "cell_type": "code",
      "source": [
        "name, place, year_of_birth, weight = \"Sunny\", \"Bengaluru\", 1991, 80.88"
      ],
      "metadata": {
        "id": "bUvSc-2VWb7I"
      },
      "execution_count": null,
      "outputs": []
    },
    {
      "cell_type": "code",
      "source": [
        "print(f\"\"\"\n",
        "My name is: {name}\n",
        "I live at: {place}\n",
        "I was born in: {year_of_birth}\n",
        "My weight is: {weight} in Kgs\n",
        "\"\"\")"
      ],
      "metadata": {
        "colab": {
          "base_uri": "https://localhost:8080/"
        },
        "id": "Ov2_WdBSWp0k",
        "outputId": "29afcc2d-5d49-4e5e-ca8c-69e413f19944"
      },
      "execution_count": null,
      "outputs": [
        {
          "output_type": "stream",
          "name": "stdout",
          "text": [
            "\n",
            "My name is: Sunny\n",
            "I live at: Bengaluru\n",
            "I was born in: 1991\n",
            "My weight is: 80.88 in Kgs\n",
            "\n"
          ]
        }
      ]
    },
    {
      "cell_type": "markdown",
      "source": [
        "# NOTE: Before can i use? Please try in colab or jupyter notebook once"
      ],
      "metadata": {
        "id": "6w_p8_c1Oevh"
      }
    },
    {
      "cell_type": "markdown",
      "source": [
        "## User input"
      ],
      "metadata": {
        "id": "CBg-eM55O3Gg"
      }
    },
    {
      "cell_type": "code",
      "source": [
        "name = input(\"Enter your Name: \")\n",
        "\n",
        "print(f\"You have entered: {name}\")"
      ],
      "metadata": {
        "colab": {
          "base_uri": "https://localhost:8080/"
        },
        "id": "MbI0CvFuOWQJ",
        "outputId": "420001db-42dd-4449-ccc1-774249f38821"
      },
      "execution_count": null,
      "outputs": [
        {
          "output_type": "stream",
          "name": "stdout",
          "text": [
            "Enter your Name: 1234\n",
            "You have entered: 1234\n"
          ]
        }
      ]
    },
    {
      "cell_type": "code",
      "source": [
        "A = input(\"Enter value of A: \")\n",
        "B = input(\"Enter value of B: \")\n",
        "\n",
        "print(f\"Sum of A and B is: {A+B}\")"
      ],
      "metadata": {
        "colab": {
          "base_uri": "https://localhost:8080/"
        },
        "id": "dOghfO2nPI2m",
        "outputId": "440db703-47bc-4bb2-e200-d7c2395269a8"
      },
      "execution_count": null,
      "outputs": [
        {
          "output_type": "stream",
          "name": "stdout",
          "text": [
            "Enter value of A: 12\n",
            "Enter value of B: 10\n",
            "Sum of A and B is: 1210\n"
          ]
        }
      ]
    },
    {
      "cell_type": "code",
      "source": [
        "print(\"Sum of A and B is: {A+B}\")"
      ],
      "metadata": {
        "colab": {
          "base_uri": "https://localhost:8080/"
        },
        "id": "hHjGDwzGQB4n",
        "outputId": "78c1ac06-ddc0-4ba8-b33d-6b02f74a228e"
      },
      "execution_count": null,
      "outputs": [
        {
          "output_type": "stream",
          "name": "stdout",
          "text": [
            "Sum of A and B is: {A+B}\n"
          ]
        }
      ]
    },
    {
      "cell_type": "code",
      "source": [
        "A = input(\"Enter value of A: \")\n",
        "B = input(\"Enter value of B: \")\n",
        "\n",
        "print(type(A), type(B))"
      ],
      "metadata": {
        "colab": {
          "base_uri": "https://localhost:8080/"
        },
        "id": "tzylmWEtPhux",
        "outputId": "9557e7e5-9d28-4f33-9616-5c4d59421135"
      },
      "execution_count": null,
      "outputs": [
        {
          "output_type": "stream",
          "name": "stdout",
          "text": [
            "Enter value of A: 12\n",
            "Enter value of B: 10\n",
            "<class 'str'> <class 'str'>\n"
          ]
        }
      ]
    },
    {
      "cell_type": "markdown",
      "source": [
        "# Type conversion\n",
        "\n",
        "We can convert the data type of one variable into another if it is allowed\n"
      ],
      "metadata": {
        "id": "dQzI-ZL5RMpY"
      }
    },
    {
      "cell_type": "code",
      "source": [
        "A = int(input(\"Enter value of A: \"))\n",
        "B = int(input(\"Enter value of B: \"))\n",
        "\n",
        "print(type(A), type(B))"
      ],
      "metadata": {
        "colab": {
          "base_uri": "https://localhost:8080/"
        },
        "id": "nJrdKZH9P4VX",
        "outputId": "2157ec53-ad58-4314-a1bf-67d63e3e1f73"
      },
      "execution_count": null,
      "outputs": [
        {
          "output_type": "stream",
          "name": "stdout",
          "text": [
            "Enter value of A: 12\n",
            "Enter value of B: 10\n",
            "<class 'int'> <class 'int'>\n"
          ]
        }
      ]
    },
    {
      "cell_type": "code",
      "source": [
        "print(f\"Sum of A and B is: {A+B}\")"
      ],
      "metadata": {
        "colab": {
          "base_uri": "https://localhost:8080/"
        },
        "id": "UEpCGu2TQPto",
        "outputId": "1d8314b2-e019-4ec1-82a0-28a898d77701"
      },
      "execution_count": null,
      "outputs": [
        {
          "output_type": "stream",
          "name": "stdout",
          "text": [
            "Sum of A and B is: 22\n"
          ]
        }
      ]
    },
    {
      "cell_type": "code",
      "source": [
        "int A"
      ],
      "metadata": {
        "colab": {
          "base_uri": "https://localhost:8080/",
          "height": 133
        },
        "id": "FuVGryyCQZLG",
        "outputId": "8d2b80b9-dabc-4712-a536-0ec9e2cb9b35"
      },
      "execution_count": null,
      "outputs": [
        {
          "output_type": "error",
          "ename": "SyntaxError",
          "evalue": "ignored",
          "traceback": [
            "\u001b[0;36m  File \u001b[0;32m\"<ipython-input-32-1a8d28b38f60>\"\u001b[0;36m, line \u001b[0;32m1\u001b[0m\n\u001b[0;31m    int A\u001b[0m\n\u001b[0m        ^\u001b[0m\n\u001b[0;31mSyntaxError\u001b[0m\u001b[0;31m:\u001b[0m invalid syntax\n"
          ]
        }
      ]
    },
    {
      "cell_type": "code",
      "source": [
        "A = float(input(\"Enter value of A: \"))\n",
        "B = float(input(\"Enter value of B: \"))\n",
        "\n",
        "print(f\"Sum of A and B is: {A+B}\")"
      ],
      "metadata": {
        "colab": {
          "base_uri": "https://localhost:8080/"
        },
        "id": "zc3OYDDOQUb_",
        "outputId": "137d83d1-c45f-4854-ddf7-a0a614a7fce7"
      },
      "execution_count": null,
      "outputs": [
        {
          "output_type": "stream",
          "name": "stdout",
          "text": [
            "Enter value of A: 12.2\n",
            "Enter value of B: 10.2\n",
            "Sum of A and B is: 22.4\n"
          ]
        }
      ]
    },
    {
      "cell_type": "code",
      "source": [
        "A = float(input(\"Enter value of A: \"))\n",
        "B = int(input(\"Enter value of B: \"))\n",
        "\n",
        "print(f\"Sum of A and B is: {A+B}\")"
      ],
      "metadata": {
        "colab": {
          "base_uri": "https://localhost:8080/"
        },
        "id": "kPe7Wv2LQiZQ",
        "outputId": "66f17121-daff-44d0-f9f1-da6e559054d9"
      },
      "execution_count": null,
      "outputs": [
        {
          "output_type": "stream",
          "name": "stdout",
          "text": [
            "Enter value of A: 12.2\n",
            "Enter value of B: 10\n",
            "Sum of A and B is: 22.2\n"
          ]
        }
      ]
    },
    {
      "cell_type": "code",
      "source": [
        "A = float(input(\"Enter value of A: \"))\n",
        "B = int(input(\"Enter value of B: \"))\n",
        "\n",
        "print(f\"Sum of A and B is: {A+B}\")"
      ],
      "metadata": {
        "colab": {
          "base_uri": "https://localhost:8080/",
          "height": 259
        },
        "id": "yTF1cl6YQ6Nf",
        "outputId": "dd3c9dca-59cd-4690-8832-f42152cbd5c6"
      },
      "execution_count": null,
      "outputs": [
        {
          "name": "stdout",
          "output_type": "stream",
          "text": [
            "Enter value of A: 12.2\n",
            "Enter value of B: 10.2\n"
          ]
        },
        {
          "output_type": "error",
          "ename": "ValueError",
          "evalue": "ignored",
          "traceback": [
            "\u001b[0;31m---------------------------------------------------------------------------\u001b[0m",
            "\u001b[0;31mValueError\u001b[0m                                Traceback (most recent call last)",
            "\u001b[0;32m<ipython-input-36-66a6f430b15b>\u001b[0m in \u001b[0;36m<module>\u001b[0;34m\u001b[0m\n\u001b[1;32m      1\u001b[0m \u001b[0mA\u001b[0m \u001b[0;34m=\u001b[0m \u001b[0mfloat\u001b[0m\u001b[0;34m(\u001b[0m\u001b[0minput\u001b[0m\u001b[0;34m(\u001b[0m\u001b[0;34m\"Enter value of A: \"\u001b[0m\u001b[0;34m)\u001b[0m\u001b[0;34m)\u001b[0m\u001b[0;34m\u001b[0m\u001b[0;34m\u001b[0m\u001b[0m\n\u001b[0;32m----> 2\u001b[0;31m \u001b[0mB\u001b[0m \u001b[0;34m=\u001b[0m \u001b[0mint\u001b[0m\u001b[0;34m(\u001b[0m\u001b[0minput\u001b[0m\u001b[0;34m(\u001b[0m\u001b[0;34m\"Enter value of B: \"\u001b[0m\u001b[0;34m)\u001b[0m\u001b[0;34m)\u001b[0m\u001b[0;34m\u001b[0m\u001b[0;34m\u001b[0m\u001b[0m\n\u001b[0m\u001b[1;32m      3\u001b[0m \u001b[0;34m\u001b[0m\u001b[0m\n\u001b[1;32m      4\u001b[0m \u001b[0mprint\u001b[0m\u001b[0;34m(\u001b[0m\u001b[0;34mf\"Sum of A and B is: {A+B}\"\u001b[0m\u001b[0;34m)\u001b[0m\u001b[0;34m\u001b[0m\u001b[0;34m\u001b[0m\u001b[0m\n",
            "\u001b[0;31mValueError\u001b[0m: invalid literal for int() with base 10: '10.2'"
          ]
        }
      ]
    },
    {
      "cell_type": "code",
      "source": [
        "# String to integer\n",
        "A = \"50\"\n",
        "print(f\"data type before: {type(A)}, value of A: {A}\")\n",
        "A = int(A)\n",
        "print(f\"data type after: {type(A)}, value of A: {A}\")"
      ],
      "metadata": {
        "colab": {
          "base_uri": "https://localhost:8080/"
        },
        "id": "C1apIF5nRHp9",
        "outputId": "d38b9e48-ba47-4eb3-97ab-a58285e0dc08"
      },
      "execution_count": null,
      "outputs": [
        {
          "output_type": "stream",
          "name": "stdout",
          "text": [
            "data type before: <class 'str'>, value of A: 50\n",
            "data type after: <class 'int'>, value of A: 50\n"
          ]
        }
      ]
    },
    {
      "cell_type": "code",
      "source": [
        "# String to integer\n",
        "A = \"50.22\" # entering float\n",
        "print(f\"data type before: {type(A)}, value of A: {A}\")\n",
        "A = int(A) # trying to convert into integer\n",
        "print(f\"data type after: {type(A)}, value of A: {A}\")"
      ],
      "metadata": {
        "colab": {
          "base_uri": "https://localhost:8080/",
          "height": 241
        },
        "id": "ByDvYxnMRcVG",
        "outputId": "4eceb9b6-6f90-441c-be2a-d51f05a1f656"
      },
      "execution_count": null,
      "outputs": [
        {
          "output_type": "stream",
          "name": "stdout",
          "text": [
            "data type before: <class 'str'>, value of A: 50.22\n"
          ]
        },
        {
          "output_type": "error",
          "ename": "ValueError",
          "evalue": "ignored",
          "traceback": [
            "\u001b[0;31m---------------------------------------------------------------------------\u001b[0m",
            "\u001b[0;31mValueError\u001b[0m                                Traceback (most recent call last)",
            "\u001b[0;32m<ipython-input-45-44a89d3a265f>\u001b[0m in \u001b[0;36m<module>\u001b[0;34m\u001b[0m\n\u001b[1;32m      2\u001b[0m \u001b[0mA\u001b[0m \u001b[0;34m=\u001b[0m \u001b[0;34m\"50.22\"\u001b[0m \u001b[0;31m# entering float\u001b[0m\u001b[0;34m\u001b[0m\u001b[0;34m\u001b[0m\u001b[0m\n\u001b[1;32m      3\u001b[0m \u001b[0mprint\u001b[0m\u001b[0;34m(\u001b[0m\u001b[0;34mf\"data type before: {type(A)}, value of A: {A}\"\u001b[0m\u001b[0;34m)\u001b[0m\u001b[0;34m\u001b[0m\u001b[0;34m\u001b[0m\u001b[0m\n\u001b[0;32m----> 4\u001b[0;31m \u001b[0mA\u001b[0m \u001b[0;34m=\u001b[0m \u001b[0mint\u001b[0m\u001b[0;34m(\u001b[0m\u001b[0mA\u001b[0m\u001b[0;34m)\u001b[0m \u001b[0;31m# trying to convert into integer\u001b[0m\u001b[0;34m\u001b[0m\u001b[0;34m\u001b[0m\u001b[0m\n\u001b[0m\u001b[1;32m      5\u001b[0m \u001b[0mprint\u001b[0m\u001b[0;34m(\u001b[0m\u001b[0;34mf\"data type after: {type(A)}, value of A: {A}\"\u001b[0m\u001b[0;34m)\u001b[0m\u001b[0;34m\u001b[0m\u001b[0;34m\u001b[0m\u001b[0m\n",
            "\u001b[0;31mValueError\u001b[0m: invalid literal for int() with base 10: '50.22'"
          ]
        }
      ]
    },
    {
      "cell_type": "code",
      "source": [
        "# float to integer\n",
        "A = 50.22\n",
        "print(f\"data type before: {type(A)}, value of A: {A}\")\n",
        "A = int(A)\n",
        "print(f\"data type after: {type(A)}, value of A: {A}\")"
      ],
      "metadata": {
        "colab": {
          "base_uri": "https://localhost:8080/"
        },
        "id": "AjJCOzPDRzkO",
        "outputId": "02f991f0-349e-4b71-9081-df2c5363ab56"
      },
      "execution_count": null,
      "outputs": [
        {
          "output_type": "stream",
          "name": "stdout",
          "text": [
            "data type before: <class 'float'>, value of A: 50.22\n",
            "data type after: <class 'int'>, value of A: 50\n"
          ]
        }
      ]
    },
    {
      "cell_type": "code",
      "source": [
        "# integer to float\n",
        "A = 50\n",
        "print(f\"data type before: {type(A)}, value of A: {A}\")\n",
        "A = float(A)\n",
        "print(f\"data type after: {type(A)}, value of A: {A}\")"
      ],
      "metadata": {
        "colab": {
          "base_uri": "https://localhost:8080/"
        },
        "id": "gBkQ44q9SPTM",
        "outputId": "50cfb5f5-59c8-4563-f967-617e2b140aef"
      },
      "execution_count": null,
      "outputs": [
        {
          "output_type": "stream",
          "name": "stdout",
          "text": [
            "data type before: <class 'int'>, value of A: 50\n",
            "data type after: <class 'float'>, value of A: 50.0\n"
          ]
        }
      ]
    },
    {
      "cell_type": "code",
      "source": [
        "# integer to boolean\n",
        "A = 10\n",
        "print(f\"data type before: {type(A)}, value of A: {A}\")\n",
        "A = bool(A)\n",
        "print(f\"data type after: {type(A)}, value of A: {A}\")"
      ],
      "metadata": {
        "colab": {
          "base_uri": "https://localhost:8080/"
        },
        "id": "96BXUnWNTKU4",
        "outputId": "b106b993-5923-4c96-da7e-808a55989037"
      },
      "execution_count": null,
      "outputs": [
        {
          "output_type": "stream",
          "name": "stdout",
          "text": [
            "data type before: <class 'int'>, value of A: 10\n",
            "data type after: <class 'bool'>, value of A: True\n"
          ]
        }
      ]
    },
    {
      "cell_type": "code",
      "source": [
        "# integer to boolean\n",
        "A = 0\n",
        "print(f\"data type before: {type(A)}, value of A: {A}\")\n",
        "A = bool(A)\n",
        "print(f\"data type after: {type(A)}, value of A: {A}\")"
      ],
      "metadata": {
        "colab": {
          "base_uri": "https://localhost:8080/"
        },
        "id": "4gw2DntcTZFs",
        "outputId": "3c1750e6-6fb1-469c-cd96-7d9d3ce8db5b"
      },
      "execution_count": null,
      "outputs": [
        {
          "output_type": "stream",
          "name": "stdout",
          "text": [
            "data type before: <class 'int'>, value of A: 0\n",
            "data type after: <class 'bool'>, value of A: False\n"
          ]
        }
      ]
    },
    {
      "cell_type": "code",
      "source": [
        "# integer to boolean\n",
        "A = -5\n",
        "print(f\"data type before: {type(A)}, value of A: {A}\")\n",
        "A = bool(A)\n",
        "print(f\"data type after: {type(A)}, value of A: {A}\")"
      ],
      "metadata": {
        "colab": {
          "base_uri": "https://localhost:8080/"
        },
        "id": "MsoaPr7ZTjF0",
        "outputId": "4d2cbfd5-9a53-4179-aef2-0ca28e5d155c"
      },
      "execution_count": null,
      "outputs": [
        {
          "output_type": "stream",
          "name": "stdout",
          "text": [
            "data type before: <class 'int'>, value of A: -5\n",
            "data type after: <class 'bool'>, value of A: True\n"
          ]
        }
      ]
    },
    {
      "cell_type": "code",
      "source": [
        "# string to boolean\n",
        "A = \"Sunny\"\n",
        "print(f\"data type before: {type(A)}, value of A: {A}\")\n",
        "A = bool(A)\n",
        "print(f\"data type after: {type(A)}, value of A: {A}\")"
      ],
      "metadata": {
        "colab": {
          "base_uri": "https://localhost:8080/"
        },
        "id": "NHOsKHaBTsME",
        "outputId": "0880b494-1651-4664-dff9-e3d1220616aa"
      },
      "execution_count": null,
      "outputs": [
        {
          "output_type": "stream",
          "name": "stdout",
          "text": [
            "data type before: <class 'str'>, value of A: Sunny\n",
            "data type after: <class 'bool'>, value of A: True\n"
          ]
        }
      ]
    },
    {
      "cell_type": "code",
      "source": [
        "# string to boolean\n",
        "A = \"True\"\n",
        "print(f\"data type before: {type(A)}, value of A: {A}\")\n",
        "A = bool(A)\n",
        "print(f\"data type after: {type(A)}, value of A: {A}\")"
      ],
      "metadata": {
        "colab": {
          "base_uri": "https://localhost:8080/"
        },
        "id": "g_edyuK3T4Lk",
        "outputId": "7435585b-cd09-479e-e1ea-42e9c30cf7ba"
      },
      "execution_count": null,
      "outputs": [
        {
          "output_type": "stream",
          "name": "stdout",
          "text": [
            "data type before: <class 'str'>, value of A: True\n",
            "data type after: <class 'bool'>, value of A: True\n"
          ]
        }
      ]
    },
    {
      "cell_type": "code",
      "source": [
        "# string to boolean\n",
        "A = \"False\"\n",
        "print(f\"data type before: {type(A)}, value of A: {A}\")\n",
        "A = bool(A)\n",
        "print(f\"data type after: {type(A)}, value of A: {A}\")"
      ],
      "metadata": {
        "colab": {
          "base_uri": "https://localhost:8080/"
        },
        "id": "-SyPV5NQT7Sb",
        "outputId": "f9c62107-788f-4121-90db-1652c58d314c"
      },
      "execution_count": null,
      "outputs": [
        {
          "output_type": "stream",
          "name": "stdout",
          "text": [
            "data type before: <class 'str'>, value of A: False\n",
            "data type after: <class 'bool'>, value of A: True\n"
          ]
        }
      ]
    },
    {
      "cell_type": "code",
      "source": [
        "# empty string to boolean\n",
        "A = \"\"\n",
        "print(f\"data type before: {type(A)}, value of A: {A}\")\n",
        "A = bool(A)\n",
        "print(f\"data type after: {type(A)}, value of A: {A}\")"
      ],
      "metadata": {
        "colab": {
          "base_uri": "https://localhost:8080/"
        },
        "id": "jzrNtmpzT-D9",
        "outputId": "6b3a953c-cdc6-45ea-921d-37233cf22512"
      },
      "execution_count": null,
      "outputs": [
        {
          "output_type": "stream",
          "name": "stdout",
          "text": [
            "data type before: <class 'str'>, value of A: \n",
            "data type after: <class 'bool'>, value of A: False\n"
          ]
        }
      ]
    },
    {
      "cell_type": "code",
      "source": [
        "# empty string to int\n",
        "A = \"\"\n",
        "print(f\"data type before: {type(A)}, value of A: {A}\")\n",
        "A = int(A)\n",
        "print(f\"data type after: {type(A)}, value of A: {A}\")"
      ],
      "metadata": {
        "colab": {
          "base_uri": "https://localhost:8080/",
          "height": 241
        },
        "id": "PJshzz66UJN9",
        "outputId": "ad8d04c4-99c8-492b-c771-0b0702fa5020"
      },
      "execution_count": null,
      "outputs": [
        {
          "output_type": "stream",
          "name": "stdout",
          "text": [
            "data type before: <class 'str'>, value of A: \n"
          ]
        },
        {
          "output_type": "error",
          "ename": "ValueError",
          "evalue": "ignored",
          "traceback": [
            "\u001b[0;31m---------------------------------------------------------------------------\u001b[0m",
            "\u001b[0;31mValueError\u001b[0m                                Traceback (most recent call last)",
            "\u001b[0;32m<ipython-input-57-a8248b2f88e9>\u001b[0m in \u001b[0;36m<module>\u001b[0;34m\u001b[0m\n\u001b[1;32m      2\u001b[0m \u001b[0mA\u001b[0m \u001b[0;34m=\u001b[0m \u001b[0;34m\"\"\u001b[0m\u001b[0;34m\u001b[0m\u001b[0;34m\u001b[0m\u001b[0m\n\u001b[1;32m      3\u001b[0m \u001b[0mprint\u001b[0m\u001b[0;34m(\u001b[0m\u001b[0;34mf\"data type before: {type(A)}, value of A: {A}\"\u001b[0m\u001b[0;34m)\u001b[0m\u001b[0;34m\u001b[0m\u001b[0;34m\u001b[0m\u001b[0m\n\u001b[0;32m----> 4\u001b[0;31m \u001b[0mA\u001b[0m \u001b[0;34m=\u001b[0m \u001b[0mint\u001b[0m\u001b[0;34m(\u001b[0m\u001b[0mA\u001b[0m\u001b[0;34m)\u001b[0m\u001b[0;34m\u001b[0m\u001b[0;34m\u001b[0m\u001b[0m\n\u001b[0m\u001b[1;32m      5\u001b[0m \u001b[0mprint\u001b[0m\u001b[0;34m(\u001b[0m\u001b[0;34mf\"data type after: {type(A)}, value of A: {A}\"\u001b[0m\u001b[0;34m)\u001b[0m\u001b[0;34m\u001b[0m\u001b[0;34m\u001b[0m\u001b[0m\n",
            "\u001b[0;31mValueError\u001b[0m: invalid literal for int() with base 10: ''"
          ]
        }
      ]
    },
    {
      "cell_type": "code",
      "source": [],
      "metadata": {
        "id": "zovkAE5uUX7C"
      },
      "execution_count": null,
      "outputs": []
    }
  ]
}