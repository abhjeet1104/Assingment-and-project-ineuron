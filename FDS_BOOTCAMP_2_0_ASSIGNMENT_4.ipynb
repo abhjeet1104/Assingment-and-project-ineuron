{
  "nbformat": 4,
  "nbformat_minor": 0,
  "metadata": {
    "colab": {
      "provenance": [],
      "collapsed_sections": [],
      "authorship_tag": "ABX9TyPnLHlw5SgBiyihBWg2grGO",
      "include_colab_link": true
    },
    "kernelspec": {
      "name": "python3",
      "display_name": "Python 3"
    },
    "language_info": {
      "name": "python"
    }
  },
  "cells": [
    {
      "cell_type": "markdown",
      "metadata": {
        "id": "view-in-github",
        "colab_type": "text"
      },
      "source": [
        "<a href=\"https://colab.research.google.com/github/abhjeet1104/Assingment-and-project-ineuron/blob/main/FDS_BOOTCAMP_2_0_ASSIGNMENT_4.ipynb\" target=\"_parent\"><img src=\"https://colab.research.google.com/assets/colab-badge.svg\" alt=\"Open In Colab\"/></a>"
      ]
    },
    {
      "cell_type": "markdown",
      "source": [
        "#1. Find the largest number from the given list use for loop.\n",
        "Number = [12, 75, 150, 180, 145, 525, 50]"
      ],
      "metadata": {
        "id": "p6KIlO5QAFJV"
      }
    },
    {
      "cell_type": "markdown",
      "source": [
        "##answer"
      ],
      "metadata": {
        "id": "ErSS9RB4An5T"
      }
    },
    {
      "cell_type": "code",
      "source": [
        "heights = [12.75,150, 180, 140, 525, 50]\n",
        "largest_number = heights[0]\n",
        "for number in heights :\n",
        "  if number > largest_number:\n",
        "    largest_number = number \n",
        "    print(largest_number)\n",
        "    "
      ],
      "metadata": {
        "colab": {
          "base_uri": "https://localhost:8080/"
        },
        "id": "wBIMP-GPAkH4",
        "outputId": "94ba1d37-8e4c-4deb-f025-12380cbb3e64"
      },
      "execution_count": 1,
      "outputs": [
        {
          "output_type": "stream",
          "name": "stdout",
          "text": [
            "150\n",
            "180\n",
            "525\n"
          ]
        }
      ]
    },
    {
      "cell_type": "code",
      "source": [],
      "metadata": {
        "id": "wS5Fctd6BrbM"
      },
      "execution_count": null,
      "outputs": []
    },
    {
      "cell_type": "markdown",
      "source": [
        "#2. print all even number  between 1,12"
      ],
      "metadata": {
        "id": "kB2jmRLEB7Fi"
      }
    },
    {
      "cell_type": "markdown",
      "source": [
        "##answer"
      ],
      "metadata": {
        "id": "7jNirmIKDeMs"
      }
    },
    {
      "cell_type": "code",
      "source": [
        "start, end =1, 12\n",
        "for num in range (start,end + 1):\n",
        "  if num % 2 == 0:\n",
        "    print(num,end=\" \")"
      ],
      "metadata": {
        "colab": {
          "base_uri": "https://localhost:8080/"
        },
        "id": "lfRceif7CFiw",
        "outputId": "f588458f-6d94-48f9-cd0f-3b22b4642472"
      },
      "execution_count": 2,
      "outputs": [
        {
          "output_type": "stream",
          "name": "stdout",
          "text": [
            "2 4 6 8 10 12 "
          ]
        }
      ]
    },
    {
      "cell_type": "code",
      "source": [],
      "metadata": {
        "id": "I-wdEUqNC7EL"
      },
      "execution_count": null,
      "outputs": []
    },
    {
      "cell_type": "markdown",
      "source": [
        "#3. calculate the sum of all number 1 to given number .\n",
        "expected output :\n",
        "\n",
        "enter number 10\n",
        "\n",
        "sum is 55"
      ],
      "metadata": {
        "id": "6b2AM86oDA_U"
      }
    },
    {
      "cell_type": "code",
      "source": [
        "A = input(\"enter number A: \")\n",
        "B = input(\"enter number B: \")\n",
        "\n",
        "print(f\"Sum is: {A+B}\")"
      ],
      "metadata": {
        "colab": {
          "base_uri": "https://localhost:8080/"
        },
        "id": "_WupX1UsDXZs",
        "outputId": "406cb0aa-d8bb-4ff2-a8ab-ab4afd5f7158"
      },
      "execution_count": 13,
      "outputs": [
        {
          "output_type": "stream",
          "name": "stdout",
          "text": [
            "enter number A: 1\n",
            "enter number B: 10\n",
            "Sum is: 110\n"
          ]
        }
      ]
    },
    {
      "cell_type": "markdown",
      "source": [
        "#5. print the given  list in reverse order,\n",
        "list =[ 10, 20, 30, 40, 50]"
      ],
      "metadata": {
        "id": "yCBwe5RBGcHH"
      }
    },
    {
      "cell_type": "markdown",
      "source": [
        "##Answer"
      ],
      "metadata": {
        "id": "OSFHxgjWGvP6"
      }
    },
    {
      "cell_type": "code",
      "source": [
        "lst = [10, 20, 30, 40,50]\n",
        "lst.reverse()\n",
        "print(\"list\", lst)\n",
        "\n",
        "print(\"Using reverse\", list(reversed(lst)))\n"
      ],
      "metadata": {
        "colab": {
          "base_uri": "https://localhost:8080/"
        },
        "id": "ed9RvSoSGzZh",
        "outputId": "f41033e3-3dff-497f-8235-06605bb07c44"
      },
      "execution_count": 10,
      "outputs": [
        {
          "output_type": "stream",
          "name": "stdout",
          "text": [
            "list [50, 40, 30, 20, 10]\n",
            "Using reverse [10, 20, 30, 40, 50]\n"
          ]
        }
      ]
    }
  ]
}